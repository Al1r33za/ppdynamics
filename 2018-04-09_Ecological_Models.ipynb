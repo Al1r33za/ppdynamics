{
 "cells": [
  {
   "cell_type": "markdown",
   "metadata": {},
   "source": [
    "# Ecological Models"
   ]
  },
  {
   "cell_type": "markdown",
   "metadata": {},
   "source": [
    "We now turn our attention to a different kind of biological modeling: ecological models. These models often involve spatial territory, and a possibly large number of individual agents woondering the landscape. This makes it perfect for using our new Object-Oriented Programming skills.\n",
    "\n",
    "The model that we will develop today is designed to explore the *stability* of predator-prey ecosystems. Such a system is called *unstable* if it tends to result in extinction for one or more species involved.  In contrast, a system is *stable* if it tends to maintain itself over time, despite fluctuations in population sizes.\n",
    "\n",
    "This Python code and Jupyter notebook are based on a NetLogo model: http://netlogoweb.org/launch#http://netlogoweb.org/assets/modelslib/Sample%20Models/Biology/Wolf%20Sheep%20Predation.nlogo\n",
    "\n",
    "<img src=\"netlogo-predator-prey.png\"/>"
   ]
  },
  {
   "cell_type": "markdown",
   "metadata": {},
   "source": [
    "# 1. Predator-Prey Model"
   ]
  },
  {
   "cell_type": "markdown",
   "metadata": {},
   "source": [
    "There are two main experiments of exploration to this model.\n",
    "\n",
    "In the first experiment, wolves and sheep wander randomly around the landscape, while the wolves look for sheep to prey on. Each step costs the wolves energy, and they must eat sheep in order to replenish their energy - when they run out of energy they die. To allow the population to continue, each wolf or sheep has a fixed probability of reproducing at each time step. This variation produces interesting population dynamics, but is ultimately unstable.\n",
    "\n",
    "The second experiment includes grass (green) in addition to wolves and sheep. The behavior of the wolves is identical to the first point, however this time the sheep must eat grass in order to maintain their energy - when they run out of energy they die. Once grass is eaten it will only regrow after a fixed amount of time. This version is more complex than the first, but it is generally stable.\n",
    "\n",
    "To put it another way: **when the sheep have unlimited amount of grass, this leads to an unstable system. But putting some limits on the amount of grass generally produces a stable environment.**\n",
    "\n",
    "The construction of this model is described in two papers by Wilensky & Reisman referenced below."
   ]
  },
  {
   "cell_type": "markdown",
   "metadata": {},
   "source": [
    "## 1.2 How to use it"
   ]
  },
  {
   "cell_type": "markdown",
   "metadata": {},
   "source": [
    "1. Set the `grass` parameter to `True` to include grass in the model, or to `False` to only include wolves (black) and sheep (white/yellow).\n",
    "2. Adjust the parameters (see below), or use the default settings.\n",
    "3. Instantiate the World class.\n",
    "4. Call update to step the simulation.\n",
    "5. Look at the history to see how the population sizes change over time.\n",
    "\n",
    "Parameters:\n",
    "\n",
    "* World.sheep: The initial size of sheep population\n",
    "* World.wolves: The initial size of wolf population\n",
    "* World.grass: Whether or not to include grass in the model\n",
    "* World.grass_regrowth_time: How long it takes for grass to regrow once it is eaten\n",
    "* Sheep.GAIN_FROM_FOOD: The amount of energy sheep get for every grass patch eaten\n",
    "* Sheep.REPRODUCE: The probability of a sheep reproducing at each time step\n",
    "* Wolf.GAIN_FROM_FOOD: The amount of energy wolves get for every sheep eaten\n",
    "* Wolf.REPRODUCE: The probability of a wolf reproducing at each time step\n",
    "\n",
    "Notes:\n",
    "\n",
    "* one unit of energy is deducted for every step a wolf takes\n",
    "* when grass is included, one unit of energy is deducted for every step a sheep takes"
   ]
  },
  {
   "cell_type": "markdown",
   "metadata": {},
   "source": [
    "# 2. Wolves, Sheep, and Grass"
   ]
  },
  {
   "cell_type": "markdown",
   "metadata": {},
   "source": [
    "There are an infinite number of ways to break the wolf, sheep, and grass model into Python objects. The following code explores just a single way."
   ]
  },
  {
   "cell_type": "markdown",
   "metadata": {},
   "source": [
    "## 2.1 World"
   ]
  },
  {
   "cell_type": "markdown",
   "metadata": {},
   "source": [
    "The world is the class that contains all of the elements of the model. It contains a list of animals (animals that are either Wolf or Sheep) and also a discrete grid of Patches that contain the grass level for each fixed area. By default, the grid of grass is composed of 50 x 50 cells, but connected as a **torus** (wraps around).\n",
    "\n",
    "<img src=\"http://http.developer.nvidia.com/CgTutorial/elementLinks/fig8_7.jpg\" />\n",
    "\n",
    "**Methods:**\n",
    "\n",
    "* World() - construct a new model\n",
    "* World.setup() - call the setup methods, if parameters change\n",
    "* World.get_stats() - get the populations of (sheep, wolves, grass/4)\n",
    "* World.update() - update the world by one time tick\n",
    "* World.draw() - create a nice graphical picture of the world"
   ]
  },
  {
   "cell_type": "markdown",
   "metadata": {},
   "source": [
    "## 2.2 Patches"
   ]
  },
  {
   "cell_type": "markdown",
   "metadata": {},
   "source": [
    "The world is made up of 50 x 50 patches. A Patch contains a level of grass. If World(grass=True), then Sheep can eat the grass, and it will eventually grow back.\n",
    "\n",
    "**Properties**:\n",
    "\n",
    "* Patch.level - grass level (states; -1, 0, 1, or infinity)\n",
    "* Patch.time - counting time until regrowth\n",
    "\n",
    "**Methods**:\n",
    "\n",
    "* Patch.update() - update the grass (head toward regrowth, if grass enabled)"
   ]
  },
  {
   "cell_type": "markdown",
   "metadata": {},
   "source": [
    "## 2.3 Animals"
   ]
  },
  {
   "cell_type": "markdown",
   "metadata": {},
   "source": [
    "Wolf and Sheep are both Animals. Animals has all of the properties and methods that they both share.\n",
    "\n",
    "**Properties**:\n",
    "\n",
    "* Animal.x, Animal.y - the location of the animal (floats, between 0 - 50)\n",
    "* Animal.energy - the amount of energy this animal has \n",
    "\n",
    "**Methods**:\n",
    "\n",
    "* Animal.update() - calls: move(), eat(), hatch(), or dies\n",
    "* Animal.move() - move in your random way\n",
    "* Animal.eat() - try to eat\n",
    "* Animal.hatch() - splits yourself\n",
    "* Animal.forward(distance) - go forward (used in move)\n",
    "* Animal.turnLeft(direction) - turn left in degrees (used in move)\n",
    "* Animal.turnRight(direction) - turn right in degrees (used in move)\n",
    "* Animal.eats(other_type) - can I eat this type?\n",
    "* Animal.distance(a, b) - compute distance on torus"
   ]
  },
  {
   "cell_type": "markdown",
   "metadata": {},
   "source": [
    "Now, we import all of the libraries that we will need:"
   ]
  },
  {
   "cell_type": "code",
   "execution_count": null,
   "metadata": {},
   "outputs": [],
   "source": [
    "import random\n",
    "import math\n",
    "from IPython.display import clear_output, display\n",
    "import time\n",
    "import matplotlib.pyplot as plt\n",
    "import matplotlib.patches\n",
    "from calysto.graphics import *\n",
    "\n",
    "%matplotlib inline"
   ]
  },
  {
   "cell_type": "markdown",
   "metadata": {},
   "source": [
    "And define the World class that will represent the entire model:"
   ]
  },
  {
   "cell_type": "code",
   "execution_count": null,
   "metadata": {},
   "outputs": [],
   "source": [
    "class World:\n",
    "    def __init__(self, pwidth=50, pheight=50, grass=True, \n",
    "                sheep=100, wolves=50, grass_regrowth_time=30):\n",
    "        # Width and Height (in patches):\n",
    "        self.pwidth = pwidth\n",
    "        self.pheight = pheight\n",
    "        # -----------------------------------\n",
    "        # Parameters:\n",
    "        # -----------------------------------\n",
    "        # grass:\n",
    "        self.use_grass = grass\n",
    "        self.grass_regrowth_time = grass_regrowth_time # 0 to 100\n",
    "        # sheep:\n",
    "        self.initial_number_sheep = sheep # 0 to 250\n",
    "        # wolves:\n",
    "        self.initial_number_wolves = wolves # 0 to 250\n",
    "        self.setup()\n",
    "        \n",
    "    def setup(self):\n",
    "        if self.use_grass:\n",
    "            self.patches = [[Patch(self, random.choice([-1, 1])) \n",
    "                             for w in range(self.pheight)] for h in range(self.pwidth)]\n",
    "        else:\n",
    "            self.patches = [[Patch(self, math.inf) \n",
    "                             for w in range(self.pheight)] for h in range(self.pwidth)]\n",
    "        self.animals = []\n",
    "        for i in range(self.initial_number_sheep):\n",
    "            self.animals.append(Sheep(self))\n",
    "        for i in range(self.initial_number_wolves):\n",
    "            self.animals.append(Wolf(self))\n",
    "        \n",
    "    def draw(self, pixels=10):\n",
    "        canvas = Canvas(size=(self.pwidth * pixels, self.pheight * pixels))\n",
    "        if self.use_grass:\n",
    "            grass = 0\n",
    "            non_grass = 0\n",
    "            if self.use_grass:\n",
    "                for h in range(self.pheight):\n",
    "                    for w in range(self.pwidth):\n",
    "                        if self.patches[w][h].level > 0:\n",
    "                            grass += 1\n",
    "                        else:\n",
    "                            non_grass += 1\n",
    "            if non_grass > grass:\n",
    "                rectangle = Rectangle((0,0), (self.pwidth * pixels - 1, self.pheight * pixels - 1))\n",
    "                rectangle.draw(canvas)\n",
    "                rectangle.fill(\"brown\")\n",
    "                for h in range(self.pheight):\n",
    "                    for w in range(self.pwidth):\n",
    "                        if self.patches[w][h].level > 0:\n",
    "                            rect = Rectangle((w * pixels, h * pixels), \n",
    "                                             (pixels, pixels))\n",
    "                            rect.fill(\"green\")\n",
    "                            rect.stroke(\"green\")\n",
    "                            rect.draw(canvas)\n",
    "            else:\n",
    "                rectangle = Rectangle((0,0), (self.pwidth * pixels - 1, self.pheight * pixels - 1))\n",
    "                rectangle.draw(canvas)\n",
    "                rectangle.fill(\"green\")\n",
    "                for h in range(self.pheight):\n",
    "                    for w in range(self.pwidth):\n",
    "                        if self.patches[w][h].level <= 0:\n",
    "                            rect = Rectangle((w * pixels, h * pixels), \n",
    "                                             (pixels, pixels))\n",
    "                            rect.fill(\"brown\")\n",
    "                            rect.stroke(\"brown\")\n",
    "                            rect.draw(canvas)\n",
    "        else:\n",
    "            rectangle = Rectangle((0,0), (self.pwidth * pixels - 1, self.pheight * pixels - 1))\n",
    "            rectangle.draw(canvas)\n",
    "            rectangle.fill(\"green\")\n",
    "        for animal in self.animals:\n",
    "            if isinstance(animal, Sheep):\n",
    "                sheep = Ellipse((animal.x * pixels, animal.y * pixels), (5, 3))\n",
    "                sheep.fill(\"white\")\n",
    "                sheep.stroke(\"white\")\n",
    "                sheep.draw(canvas)\n",
    "            elif isinstance(animal, Wolf):\n",
    "                wolf = Ellipse((animal.x * pixels, animal.y * pixels), (5, 3))\n",
    "                wolf.fill(\"black\")\n",
    "                wolf.stroke(\"black\")\n",
    "                wolf.draw(canvas)\n",
    "        rectangle = Rectangle((0,0), (self.pwidth * pixels - 1, self.pheight * pixels - 1))\n",
    "        rectangle.draw(canvas)\n",
    "        rectangle.fill(None)\n",
    "        return canvas\n",
    "        \n",
    "    def get_stats(self):\n",
    "        sheep = 0;\n",
    "        wolves = 0\n",
    "        for animal in self.animals:\n",
    "            if isinstance(animal, Sheep):\n",
    "                sheep += 1\n",
    "            elif isinstance(animal, Wolf):\n",
    "                wolves += 1\n",
    "        grass = 0\n",
    "        if self.use_grass:\n",
    "            for h in range(self.pheight):\n",
    "                for w in range(self.pwidth):\n",
    "                    if self.patches[w][h].level > 0:\n",
    "                        grass += 1\n",
    "        return (sheep, wolves, grass/4)\n",
    "        \n",
    "    def update(self):\n",
    "        for animal in list(self.animals): ## copy of list in case changes\n",
    "            animal.update()\n",
    "        for h in range(self.pheight):\n",
    "            for w in range(self.pwidth):\n",
    "                self.patches[w][h].update()\n",
    "        \n",
    "    def __repr__(self):\n",
    "        matrix = [[\" \" for w in range(self.pheight)] for h in range(self.pwidth)]\n",
    "        for h in range(self.pheight):\n",
    "            for w in range(self.pwidth):\n",
    "                matrix[w][h] = repr(self.patches[w][h])\n",
    "        for animal in self.animals:\n",
    "            matrix[int(animal.x)][int(animal.y)] = animal.SYMBOL\n",
    "        string = \"\"\n",
    "        for h in range(self.pheight):\n",
    "            for w in range(self.pwidth):\n",
    "                string += matrix[w][h]\n",
    "            string += \"\\n\"\n",
    "        return string\n",
    "        "
   ]
  },
  {
   "cell_type": "markdown",
   "metadata": {},
   "source": [
    "The Patch class represents a single cell on the 50 x 50 matrix for keeping track of grass:"
   ]
  },
  {
   "cell_type": "code",
   "execution_count": null,
   "metadata": {},
   "outputs": [],
   "source": [
    "class Patch:\n",
    "    def __init__(self, world, level):\n",
    "        self.world = world\n",
    "        self.level = level\n",
    "        if level == -1:\n",
    "            self.time = random.randint(0, self.world.grass_regrowth_time)\n",
    "        else:\n",
    "            self.time = 0            \n",
    "        \n",
    "    def update(self):\n",
    "        if self.level == math.inf:\n",
    "            pass\n",
    "        elif self.level == 0:\n",
    "            self.time = 0\n",
    "            self.level = -1\n",
    "        elif self.time == self.world.grass_regrowth_time:\n",
    "            self.level = 1\n",
    "        else:\n",
    "            self.time += 1\n",
    "            \n",
    "    def __repr__(self):\n",
    "        if self.level > 0:\n",
    "            return \".\"\n",
    "        return \" \""
   ]
  },
  {
   "cell_type": "markdown",
   "metadata": {},
   "source": [
    "The \"base class\" for our Sheep and Wolf classes:"
   ]
  },
  {
   "cell_type": "code",
   "execution_count": null,
   "metadata": {},
   "outputs": [],
   "source": [
    "class Animal:\n",
    "    GAIN_FROM_FOOD = 1\n",
    "    REPRODUCE = 0 ## percentage\n",
    "    SYMBOL = \"a\"\n",
    "    \n",
    "    def __init__(self, world):\n",
    "        self.world = world\n",
    "        self.x = random.random() * self.world.pwidth\n",
    "        self.y = random.random() * self.world.pheight\n",
    "        self.direction = random.random() * 360\n",
    "        \n",
    "    def turnLeft(self, degrees):\n",
    "        self.direction -= degrees\n",
    "        self.direction = self.direction % 360\n",
    "    \n",
    "    def turnRight(self, degrees):\n",
    "        self.direction += degrees\n",
    "        self.direction = self.direction % 360\n",
    "\n",
    "    def forward(self, distance):\n",
    "        radians = self.direction * (math.pi/180.0)\n",
    "        x = math.cos(radians) * distance\n",
    "        y = math.sin(radians) * distance\n",
    "        self.x = (self.x + x) % self.world.pwidth\n",
    "        self.y = (self.y + y) % self.world.pheight\n",
    "    \n",
    "    def update(self):\n",
    "        self.move()\n",
    "        self.eat()\n",
    "        if self.energy > 0:\n",
    "            if random.random() < self.REPRODUCE:\n",
    "                self.hatch()\n",
    "        else: # die\n",
    "            self.world.animals.remove(self)\n",
    "    \n",
    "    def move(self):\n",
    "        self.turnRight(random.random() * 50)\n",
    "        self.turnLeft(random.random() * 50)\n",
    "        self.forward(1)\n",
    "        if isinstance(self, Wolf) or (isinstance(self, Sheep) and self.world.use_grass):\n",
    "            self.energy -= 1.0\n",
    "        \n",
    "    def hatch(self):\n",
    "        child = self.__class__(self.world) ## hatch an offspring \n",
    "        child.x = self.x\n",
    "        child.y = self.y\n",
    "        self.energy /= 2                   ## divide energy between parent and offspring\n",
    "        child.energy = self.energy\n",
    "        child.forward(1)                   ## move offspring forward 1 step\n",
    "        self.world.animals.append(child)   ## add offspring to list of animals\n",
    "\n",
    "    def eats(self, other):\n",
    "        return False\n",
    "        \n",
    "    def distance(self, a, b):\n",
    "        # minimal distance on torus\n",
    "        dx = abs(a.x - b.x)\n",
    "        dy = abs(a.y - b.y)\n",
    "        return math.sqrt(min(dx, self.world.pwidth - dx) ** 2 + \n",
    "                         min(dy, self.world.pheight - dy) ** 2)\n",
    "        \n",
    "    def eat(self):\n",
    "        if self.energy >= 0: # if I am alive:\n",
    "            for animal in list(self.world.animals):\n",
    "                if (self.eats(animal) and \n",
    "                    self.distance(self, animal) < 1.0 and\n",
    "                    animal.energy >= 0):\n",
    "                    self.energy += self.GAIN_FROM_FOOD\n",
    "                    animal.energy = -1 ## mark dead\n",
    "                    break # don't eat any more!\n",
    "        \n",
    "    def __repr__(self):\n",
    "        return self.SYMBOL\n",
    "        "
   ]
  },
  {
   "cell_type": "markdown",
   "metadata": {},
   "source": [
    "And now our extended classes:"
   ]
  },
  {
   "cell_type": "code",
   "execution_count": null,
   "metadata": {},
   "outputs": [],
   "source": [
    "class Wolf(Animal):\n",
    "    GAIN_FROM_FOOD = 20 # 0 to 50\n",
    "    REPRODUCE = 0.05 ## percentage\n",
    "    SYMBOL = \"w\"\n",
    "    \n",
    "    def eats(self, other):\n",
    "        return isinstance(other, Sheep)\n",
    "        \n",
    "    def __init__(self, world):\n",
    "        super().__init__(world)\n",
    "        self.energy = random.randint(5, 40)\n",
    "        "
   ]
  },
  {
   "cell_type": "code",
   "execution_count": null,
   "metadata": {},
   "outputs": [],
   "source": [
    "class Sheep(Animal):\n",
    "    GAIN_FROM_FOOD = 4 # 0 to 50\n",
    "    REPRODUCE = 0.04 ## percentage\n",
    "    SYMBOL = \"s\"\n",
    "    \n",
    "    def __init__(self, world):\n",
    "        super().__init__(world)\n",
    "        self.energy = random.randint(1, 7)\n",
    "\n",
    "    def eat(self):\n",
    "        patch = self.world.patches[int(self.x)][int(self.y)]\n",
    "        if patch.level >= 0 and patch.level < math.inf:\n",
    "            self.energy += self.GAIN_FROM_FOOD\n",
    "            patch.level -= 1\n",
    "        "
   ]
  },
  {
   "cell_type": "code",
   "execution_count": null,
   "metadata": {},
   "outputs": [],
   "source": [
    "world = World(grass=True, sheep=100, wolves=40)"
   ]
  },
  {
   "cell_type": "markdown",
   "metadata": {},
   "source": [
    "To see a simple representation of a the world, you can just type it in a cell (which will effectively wrap a `repr()` around it.)"
   ]
  },
  {
   "cell_type": "code",
   "execution_count": null,
   "metadata": {},
   "outputs": [],
   "source": [
    "world"
   ]
  },
  {
   "cell_type": "markdown",
   "metadata": {},
   "source": [
    "A more expensive world.draw() method produces "
   ]
  },
  {
   "cell_type": "code",
   "execution_count": null,
   "metadata": {},
   "outputs": [],
   "source": [
    "world.draw()"
   ]
  },
  {
   "cell_type": "code",
   "execution_count": null,
   "metadata": {},
   "outputs": [],
   "source": [
    "stats = world.get_stats()\n",
    "\"Sheep: \" + str(stats[0]) + \" Wolves: \" + str(stats[1]) + \" Grass/4: \" + str(stats[2])"
   ]
  },
  {
   "cell_type": "code",
   "execution_count": null,
   "metadata": {},
   "outputs": [],
   "source": [
    "def make_plot(history):\n",
    "    plt.plot([h[0] for h in history], \"y\", label=\"Sheep\")\n",
    "    plt.plot([h[1] for h in history], \"k\", label=\"Wolves\")\n",
    "    plt.plot([h[2] for h in history], \"g\", label=\"Grass\")\n",
    "    plt.legend()\n",
    "    plt.xlabel('time')\n",
    "    plt.ylabel('count')\n",
    "    plt.show()"
   ]
  },
  {
   "cell_type": "code",
   "execution_count": null,
   "metadata": {},
   "outputs": [],
   "source": [
    "world = World(grass=False, sheep=100, wolves=50)"
   ]
  },
  {
   "cell_type": "code",
   "execution_count": null,
   "metadata": {},
   "outputs": [],
   "source": [
    "history = []\n",
    "ticks = 0\n",
    "while ticks < 500 and 0 < len(world.animals) < 5000:\n",
    "    ticks += 1\n",
    "    world.update()\n",
    "    clear_output(wait=True)\n",
    "    stats = world.get_stats()\n",
    "    history.append(stats)\n",
    "    make_plot(history)\n",
    "    display(world,\n",
    "            \"Ticks: \" + str(ticks) + \n",
    "            \" Sheep: \" + str(stats[0]) + \n",
    "            \" Wolves: \" + str(stats[1]) + \n",
    "            \" Grass/4: \" + str(stats[2]))"
   ]
  },
  {
   "cell_type": "markdown",
   "metadata": {},
   "source": [
    "# 3. Things to Notice"
   ]
  },
  {
   "cell_type": "markdown",
   "metadata": {},
   "source": [
    "When grass is not included, watch as the sheep and wolf populations fluctuate. Notice that increases and decreases in the sizes of each population are related. In what way are they related? What eventually happens?\n",
    "\n",
    "Once grass is added, notice the green line added to the population plot representing fluctuations in the amount of grass. How do the sizes of the three populations appear to relate now? What is the explanation for this?\n",
    "\n",
    "Why do you suppose that some variations of the model might be stable while others are not?"
   ]
  },
  {
   "cell_type": "markdown",
   "metadata": {},
   "source": [
    "## 3.1 Things to Try"
   ]
  },
  {
   "cell_type": "markdown",
   "metadata": {},
   "source": [
    "Try adjusting the parameters under various settings. How sensitive is the stability of the model to the particular parameters?\n",
    "\n",
    "Can you find any parameters that generate a stable ecosystem that includes only wolves and sheep?\n",
    "\n",
    "Try setting World.grass to True, but setting World.wolves to 0. This gives a stable ecosystem with only sheep and grass. Why might this be stable while the variation with only sheep and wolves is not?\n",
    "\n",
    "Notice that under stable settings, the populations tend to fluctuate at a predictable pace. Can you find any parameters that will speed this up or slow it down?\n",
    "\n",
    "Try changing the reproduction rules -- for example, what would happen if reproduction depended on energy rather than being determined by a fixed probability?"
   ]
  },
  {
   "cell_type": "markdown",
   "metadata": {},
   "source": [
    "## 3.2 Extending the Model"
   ]
  },
  {
   "cell_type": "markdown",
   "metadata": {},
   "source": [
    "There are a number ways to alter the model so that it will be stable with only wolves and sheep (no grass). Some will require new elements to be coded in or existing behaviors to be changed. Can you develop such a version?\n",
    "\n",
    "Can you modify the model so the sheep will flock?\n",
    "\n",
    "Can you modify the model so that wolf actively chase sheep?"
   ]
  },
  {
   "cell_type": "markdown",
   "metadata": {},
   "source": [
    "## 3.3 Python Features"
   ]
  },
  {
   "cell_type": "markdown",
   "metadata": {},
   "source": [
    "Note the use of breeds to model two different kinds of \"turtles\": wolves and sheep. Note the use of patches to model grass."
   ]
  },
  {
   "cell_type": "markdown",
   "metadata": {},
   "source": [
    "# 4. References"
   ]
  },
  {
   "cell_type": "markdown",
   "metadata": {},
   "source": [
    "Wilensky, U. & Reisman, K. (1999). Connected Science: Learning Biology through Constructing and Testing Computational Theories -- an Embodied Modeling Approach. International Journal of Complex Systems, M. 234, pp. 1 - 12. (This model is a slightly extended version of the model described in the paper.)\n",
    "\n",
    "Wilensky, U. & Reisman, K. (2006). Thinking like a Wolf, a Sheep or a Firefly: Learning Biology through Constructing and Testing Computational Theories -- an Embodied Modeling Approach. Cognition & Instruction, 24(2), pp. 171-209. http://ccl.northwestern.edu/papers/wolfsheep.pdf"
   ]
  },
  {
   "cell_type": "markdown",
   "metadata": {},
   "source": [
    "## 4.1 COPYRIGHT AND LICENSE"
   ]
  },
  {
   "cell_type": "markdown",
   "metadata": {},
   "source": [
    "* Copyright 1997 Uri Wilensky.\n",
    "* Copyright 2016 Douglas Blank.\n",
    "\n",
    "![CC BY-NC-SA 3.0](http://ccl.northwestern.edu/images/creativecommons/byncsa.png)\n",
    "\n",
    "This work is licensed under the Creative Commons Attribution-NonCommercial-ShareAlike 3.0 License.  To view a copy of this license, visit https://creativecommons.org/licenses/by-nc-sa/3.0/ or send a letter to Creative Commons, 559 Nathan Abbott Way, Stanford, California 94305, USA."
   ]
  }
 ],
 "metadata": {
  "kernelspec": {
   "display_name": "Python 3 (ipykernel)",
   "language": "python",
   "name": "python3"
  },
  "language_info": {
   "codemirror_mode": {
    "name": "ipython",
    "version": 3
   },
   "file_extension": ".py",
   "mimetype": "text/x-python",
   "name": "python",
   "nbconvert_exporter": "python",
   "pygments_lexer": "ipython3",
   "version": "3.12.1"
  }
 },
 "nbformat": 4,
 "nbformat_minor": 4
}
